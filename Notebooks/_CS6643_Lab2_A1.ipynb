{
 "cells": [
  {
   "cell_type": "code",
   "execution_count": 3,
   "metadata": {},
   "outputs": [],
   "source": [
    "# IMPORT LIBRARIES:\n",
    "import matplotlib.pyplot as plt \n",
    "import matplotlib.image as img\n",
    "import numpy as np\n",
    "import cv2"
   ]
  },
  {
   "cell_type": "code",
   "execution_count": 4,
   "metadata": {},
   "outputs": [],
   "source": [
    "# READING IMAGES:\n",
    "in_img = cv2.imread('./ASSETS/zebra.png', cv2.IMREAD_GRAYSCALE)\n",
    "a_img = np.array(in_img)\n",
    "n_img = ((a_img - np.min(a_img)) * (1/(np.max(a_img) - np.min(a_img)) * 255)).astype('uint8')\n",
    "convolution_input = n_img.astype(float)"
   ]
  },
  {
   "cell_type": "code",
   "execution_count": 5,
   "metadata": {},
   "outputs": [],
   "source": [
    "# FUNCTIONS/HELPER FUNCTIONS:\n",
    "def convolution(image, filter):\n",
    "    # Convert image to float array if it's not already\n",
    "    image = [[float(val) for val in row] for row in image]\n",
    "    # Convert filter to float array if it's not already\n",
    "    filter = [[float(val) for val in row] for row in filter]\n",
    "    \n",
    "    # Determine the dimensions of the image and filter\n",
    "    image_height = len(image)\n",
    "    image_width = len(image[0])\n",
    "    filter_height = len(filter)\n",
    "    filter_width = len(filter[0])\n",
    "    \n",
    "    # Calculate padding\n",
    "    pad_height = filter_height // 2\n",
    "    pad_width = filter_width // 2\n",
    "    \n",
    "    # Pad the image with zeros on all sides\n",
    "    padded_image = [[0 for _ in range(image_width + 2 * pad_width)] for _ in range(image_height + 2 * pad_height)]\n",
    "    for i in range(image_height):\n",
    "        for j in range(image_width):\n",
    "            padded_image[i + pad_height][j + pad_width] = image[i][j]\n",
    "    \n",
    "    # Prepare the img_conv array\n",
    "    img_conv = [[0 for _ in range(image_width)] for _ in range(image_height)]\n",
    "    \n",
    "    # Apply the filter\n",
    "    for y in range(image_height):\n",
    "        for x in range(image_width):\n",
    "            # Extract the current region of interest\n",
    "            region = [[padded_image[i][j] for j in range(x, x + filter_width)] for i in range(y, y + filter_height)]\n",
    "            # Perform element-wise multiplication and sum the result\n",
    "            img_conv[y][x] = sum(sum(region[i][j] * filter[i][j] for j in range(filter_width)) for i in range(filter_height))\n",
    "    \n",
    "    return img_conv\n",
    "\n",
    "def manual_threshold(img_in, threshold):\n",
    "    \n",
    "    manual_thresh_img = []\n",
    "    \n",
    "    for row in img_in:\n",
    "        thresholded_row = []\n",
    "        for pixel in row:\n",
    "            thresholded_row.append(255 if pixel > threshold else 0)\n",
    "        manual_thresh_img.append(thresholded_row)\n",
    "\n",
    "    threshold_img = manual_thresh_img\n",
    "\n",
    "    return threshold_img\n",
    "\n",
    "def gaussian_kernel(l, sig):\n",
    "    \n",
    "    ax = np.linspace(-(l - 1) / 2., (l - 1) / 2., l)\n",
    "    gauss = np.exp(-0.5 * ax**2 / sig**2)\n",
    "    kernel = np.outer(gauss, gauss)\n",
    "\n",
    "    return kernel / np.sum(kernel)\n",
    "\n",
    "def imageAdjust(image_array):\n",
    "    # Calculate the minimum and maximum pixel values of the image\n",
    "    min_val = np.min(image_array)\n",
    "    max_val = np.max(image_array)\n",
    "    \n",
    "    # Adjust the image array to the range [0, 255]\n",
    "    adjusted_image_array = 255 * (image_array - min_val) / (max_val - min_val)\n",
    "    \n",
    "    # Ensure the values are within the byte range and of type uint8\n",
    "    adjusted_image_array = adjusted_image_array.astype(np.uint8)\n",
    "    \n",
    "    return adjusted_image_array\n",
    "\n",
    "def detect_zero_crossings(filtered_image, delta):\n",
    "    filtered_image = [[float(val) for val in row] for row in filtered_image]\n",
    "    \n",
    "    image_height = len(filtered_image)\n",
    "    image_width = len(filtered_image[0])\n",
    "    \n",
    "    # Initialize the edge image with zeros (all black)\n",
    "    edge_image = [[0 for _ in range(image_width)] for _ in range(image_height)]\n",
    "    \n",
    "    # Iterate over the image (excluding the borders)\n",
    "    for i in range(1, image_height - 1):\n",
    "        for j in range(1, image_width - 1):\n",
    "            current_pixel = filtered_image[i][j]\n",
    "            neighbors = [\n",
    "                filtered_image[i-1][j-1], filtered_image[i-1][j], filtered_image[i-1][j+1],\n",
    "                filtered_image[i][j-1],                             filtered_image[i][j+1],\n",
    "                filtered_image[i+1][j-1], filtered_image[i+1][j], filtered_image[i+1][j+1],\n",
    "            ]\n",
    "            \n",
    "            # Check if the current pixel is positive and if any neighbor is negative\n",
    "            if current_pixel > 0:\n",
    "                for neighbor in neighbors:\n",
    "                    if neighbor < -delta:\n",
    "                        edge_image[i][j] = 255\n",
    "                        break\n",
    "    return edge_image"
   ]
  },
  {
   "cell_type": "code",
   "execution_count": 6,
   "metadata": {},
   "outputs": [
    {
     "data": {
      "text/plain": [
       "True"
      ]
     },
     "execution_count": 6,
     "metadata": {},
     "output_type": "execute_result"
    }
   ],
   "source": [
    "# A1:\n",
    "# Derivative Kernels:\n",
    "sigma = 2.0\n",
    "filter_g = gaussian_kernel(6*int(sigma)+1, sigma)\n",
    "filter_x = [[-1, 0, 1], [-2, 0, 2], [-1, 0, 1]]\n",
    "filter_y = [[1, 2, 1], [0, 0, 0], [-1, -2, -1]]\n",
    "\n",
    "\n",
    "\n",
    "# Results:\n",
    "gaussian_image = convolution(convolution_input, filter_g)\n",
    "gradient_x = convolution(gaussian_image, filter_x)\n",
    "gradient_y = convolution(gaussian_image, filter_y)\n",
    "gradient_magnitude = np.sqrt(np.array(gradient_x)**2 + np.array(gradient_y)**2)\n",
    "binary_edges = manual_threshold(gradient_magnitude, 128)\n",
    "\n",
    "\n",
    "\n",
    "\n",
    "# Writing Results:\n",
    "cv2.imwrite('gaussian_img.png', imageAdjust(gaussian_image))\n",
    "cv2.imwrite('x_derivative.png', imageAdjust(gradient_x))\n",
    "cv2.imwrite('y_derivative.png', imageAdjust(gradient_y))\n",
    "cv2.imwrite('magnitude_image.png', imageAdjust(gradient_magnitude))\n",
    "cv2.imwrite('binary_edges.png', imageAdjust(binary_edges))"
   ]
  },
  {
   "cell_type": "code",
   "execution_count": 15,
   "metadata": {},
   "outputs": [
    {
     "data": {
      "text/plain": [
       "True"
      ]
     },
     "execution_count": 15,
     "metadata": {},
     "output_type": "execute_result"
    }
   ],
   "source": [
    "# A2:\n",
    "# Laplacian Kernel:\n",
    "sigma = 1.0\n",
    "filter_g = gaussian_kernel(6*int(sigma)+1, sigma)\n",
    "laplacian_filter = np.array([[0,-1,0], [-1,4,-1], [-1,0,1]])\n",
    "\n",
    "# Results:\n",
    "gaussian_image = convolution(convolution_input, filter_g)\n",
    "laplacian_image = convolution(gaussian_image, laplacian_filter)\n",
    "delta = .0001\n",
    "zero_crossings = detect_zero_crossings(np.array(laplacian_image), delta)\n",
    "\n",
    "\n",
    "# Writing Results:\n",
    "cv2.imwrite('laplacian_image.png', imageAdjust(laplacian_image))\n",
    "cv2.imwrite('zero_crossings.png', imageAdjust(zero_crossings))"
   ]
  },
  {
   "cell_type": "code",
   "execution_count": null,
   "metadata": {},
   "outputs": [],
   "source": []
  }
 ],
 "metadata": {
  "kernelspec": {
   "display_name": "Python 3",
   "language": "python",
   "name": "python3"
  },
  "language_info": {
   "codemirror_mode": {
    "name": "ipython",
    "version": 3
   },
   "file_extension": ".py",
   "mimetype": "text/x-python",
   "name": "python",
   "nbconvert_exporter": "python",
   "pygments_lexer": "ipython3",
   "version": "3.12.2"
  }
 },
 "nbformat": 4,
 "nbformat_minor": 2
}
