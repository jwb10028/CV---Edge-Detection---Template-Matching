{
 "cells": [
  {
   "cell_type": "markdown",
   "metadata": {},
   "source": [
    "// Cross Correlation and Template Matching TEMPLATE_IMAGE = 'animal-family-25-template.jpg' SOURCE = 'animal-family-25.jpg'"
   ]
  },
  {
   "cell_type": "code",
   "execution_count": 108,
   "metadata": {},
   "outputs": [],
   "source": [
    "# CODE HERE:\n",
    "import matplotlib.pyplot as plt \n",
    "import matplotlib.image as img\n",
    "import numpy as np\n",
    "import cv2"
   ]
  },
  {
   "cell_type": "code",
   "execution_count": 109,
   "metadata": {},
   "outputs": [],
   "source": [
    "# READING IN IMAGES:\n",
    "template_img = cv2.imread('./ASSETS/animal-family-25-template.jpg', cv2.IMREAD_GRAYSCALE).astype(float)\n",
    "template = ((template_img - np.min(template_img)) * (1.0/(np.max(template_img) - np.min(template_img)) * 255.0))\n",
    "\n",
    "\n",
    "\n",
    "source_img = cv2.imread('./ASSETS/animal-family-25.jpg', cv2.IMREAD_GRAYSCALE).astype(float)\n",
    "source = ((source_img - np.min(source_img)) * (1.0/(np.max(source_img) - np.min(source_img)) * 255.0))\n"
   ]
  },
  {
   "cell_type": "code",
   "execution_count": 110,
   "metadata": {},
   "outputs": [],
   "source": [
    "# FUNCTIONS/HELPER FUNCTIONS:\n",
    "def cross_correlation(image, template):\n",
    "    # Get the dimensions of the image and the template\n",
    "    image_height = len(image)\n",
    "    image_width = len(image[0])\n",
    "    template_height = len(template)\n",
    "    template_width = len(template[0])\n",
    "\n",
    "    # Calculate the padding sizes\n",
    "    pad_height = template_height // 2\n",
    "    pad_width = template_width // 2\n",
    "\n",
    "    # Pad the image with zeros on all sides\n",
    "    padded_image = np.pad(image, [(pad_height, pad_height), (pad_width, pad_width)], mode='constant', constant_values=0)\n",
    "\n",
    "    # Calculate the zero-mean versions of the image and the template\n",
    "    template_mean = template.mean()\n",
    "    zero_mean_template = template - template_mean\n",
    "\n",
    "    # Create an output array with the same size as the image\n",
    "    output = np.zeros_like(image)\n",
    "\n",
    "    # Perform cross-correlation\n",
    "    for i in range(pad_height, pad_height + image_height):\n",
    "        for j in range(pad_width, pad_width + image_width):\n",
    "            # Extract the current region of interest of the image\n",
    "            region = padded_image[i - pad_height:i + pad_height + 1, j - pad_width:j + pad_width + 1]\n",
    "            # Subtract mean of the current region of interest\n",
    "            current_roi_mean = region.mean()\n",
    "            zero_mean_roi = region - current_roi_mean\n",
    "            # Calculate correlation score\n",
    "            correlation_score = np.sum(zero_mean_roi * zero_mean_template)\n",
    "            # Store score\n",
    "            output[i - pad_height, j - pad_width] = correlation_score\n",
    "\n",
    "\n",
    "    return output\n",
    "\n",
    "def overlay_images(base_image, overlay_image):\n",
    "    # Get dimensions of the images\n",
    "    height = len(base_image)\n",
    "    width = len(base_image[0])\n",
    "\n",
    "    # Create output image of the same size\n",
    "    output_image = [[0 for _ in range(width)] for _ in range(height)]\n",
    "\n",
    "    # Alpha value for blending (0.5 for equal blending of both images)\n",
    "    alpha = 0.5\n",
    "\n",
    "    # Loop over each pixel and blend the base image and overlay image\n",
    "    for i in range(height):\n",
    "        for j in range(width):\n",
    "            base_pixel = base_image[i][j]\n",
    "            overlay_pixel = overlay_image[i][j]\n",
    "            # Blend pixels together using the alpha value\n",
    "            blended_pixel = int((1 - alpha) * base_pixel + alpha * overlay_pixel)\n",
    "            output_image[i][j] = blended_pixel\n",
    "\n",
    "    return output_image\n",
    "\n",
    "def manual_threshold(img_in, threshold):\n",
    "    \n",
    "    manual_thresh_img = []\n",
    "    \n",
    "    for row in img_in:\n",
    "        thresholded_row = []\n",
    "        for pixel in row:\n",
    "            thresholded_row.append(255 if pixel > threshold else 0)\n",
    "        manual_thresh_img.append(thresholded_row)\n",
    "\n",
    "    threshold_img = manual_thresh_img\n",
    "\n",
    "    return threshold_img\n",
    "\n",
    "def imageAdjust(image_array):\n",
    "    # Calculate the minimum and maximum pixel values of the image\n",
    "    min_val = np.min(image_array)\n",
    "    max_val = np.max(image_array)\n",
    "    \n",
    "    # Adjust the image array to the range [0, 255]\n",
    "    adjusted_image_array = 255 * (image_array - min_val) / (max_val - min_val)\n",
    "    \n",
    "    # Ensure the values are within the byte range and of type uint8\n",
    "    adjusted_image_array = adjusted_image_array.astype(np.uint8)\n",
    "    \n",
    "    return adjusted_image_array\n"
   ]
  },
  {
   "cell_type": "code",
   "execution_count": 118,
   "metadata": {},
   "outputs": [
    {
     "data": {
      "text/plain": [
       "True"
      ]
     },
     "execution_count": 118,
     "metadata": {},
     "output_type": "execute_result"
    }
   ],
   "source": [
    "# RESULTS:\n",
    "correlation_result = cross_correlation(source, template)\n",
    "binarized_peaks = manual_threshold(imageAdjust(correlation_result), 180)\n",
    "overlay_image = overlay_images(source, binarized_peaks)\n",
    "\n",
    "# WRITING RESULTS:\n",
    "cv2.imwrite('correlation_result.png', imageAdjust(correlation_result))\n",
    "cv2.imwrite('binarized_peaks.png', np.array(binarized_peaks))\n",
    "cv2.imwrite('overlay_image.png', np.array(overlay_image))"
   ]
  },
  {
   "cell_type": "code",
   "execution_count": null,
   "metadata": {},
   "outputs": [],
   "source": []
  }
 ],
 "metadata": {
  "kernelspec": {
   "display_name": "Python 3",
   "language": "python",
   "name": "python3"
  },
  "language_info": {
   "codemirror_mode": {
    "name": "ipython",
    "version": 3
   },
   "file_extension": ".py",
   "mimetype": "text/x-python",
   "name": "python",
   "nbconvert_exporter": "python",
   "pygments_lexer": "ipython3",
   "version": "3.12.2"
  }
 },
 "nbformat": 4,
 "nbformat_minor": 2
}
